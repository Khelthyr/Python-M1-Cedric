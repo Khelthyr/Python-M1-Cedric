{
  "nbformat": 4,
  "nbformat_minor": 0,
  "metadata": {
    "colab": {
      "name": "Exercice-Math.ipynb",
      "provenance": []
    },
    "kernelspec": {
      "name": "python3",
      "display_name": "Python 3"
    }
  },
  "cells": [
    {
      "cell_type": "markdown",
      "metadata": {
        "id": "dgh5exL4195Q"
      },
      "source": [
        "**3 Maths**\n",
        "\n",
        "**3.1 Le temps d'arrêt**\n",
        "\n",
        "On note Hn la somme $Hn = \\sum{k = 1}^n \\frac{1}{k}$ .\n",
        "\n",
        "On admet que H tend vers +1. \n",
        "\n",
        "Écrire un algorithme qui détermine le plus petit entier n tel que (H) depasse un réel a donnée."
      ]
    },
    {
      "cell_type": "code",
      "metadata": {
        "id": "9Z2NBggWokda",
        "outputId": "bc55f5d5-b38b-41cb-b812-049aabd9984b",
        "colab": {
          "base_uri": "https://localhost:8080/",
          "height": 51
        }
      },
      "source": [
        "n = 1\n",
        "a = float(input('Alpha : '))\n",
        "H = 0\n",
        "while H < a:\n",
        "  H += 1/n\n",
        "  n += 1\n",
        "print(n)"
      ],
      "execution_count": null,
      "outputs": [
        {
          "output_type": "stream",
          "text": [
            "Alpha : 10\n",
            "12368\n"
          ],
          "name": "stdout"
        }
      ]
    },
    {
      "cell_type": "markdown",
      "metadata": {
        "id": "wNVY86gmAE5W"
      },
      "source": [
        "**3.2 Petite equation**\n",
        "\n",
        "On consid\u0012ere l'\u0013equation ${x}^2-{2y}^2 = 1$, d'inconnues $x,y E N*$ (les entiers). \n",
        "\n",
        "Ecrire un algorithme permettant de d\u0013eterminer toutes les solutions de cette équation pour lesquelles $x,y <= 100$"
      ]
    },
    {
      "cell_type": "code",
      "metadata": {
        "id": "DjVwBZ4UBewW",
        "outputId": "68445824-b046-4932-b37b-bcccf313f9fa",
        "colab": {
          "base_uri": "https://localhost:8080/",
          "height": 85
        }
      },
      "source": [
        "x = 0\n",
        "y = 0\n",
        "\n",
        "for y in range(100) :\n",
        "  for x in range(100) :\n",
        "    if (x*x) - (2*(y*y)) == 1 :\n",
        "      print('La valeur de x : ' + str(x) +' et la valeur de y est de : ' + str(y))"
      ],
      "execution_count": null,
      "outputs": [
        {
          "output_type": "stream",
          "text": [
            "La valeur de x : 1 et la valeur de y est de : 0\n",
            "La valeur de x : 3 et la valeur de y est de : 2\n",
            "La valeur de x : 17 et la valeur de y est de : 12\n",
            "La valeur de x : 99 et la valeur de y est de : 70\n"
          ],
          "name": "stdout"
        }
      ]
    },
    {
      "cell_type": "markdown",
      "metadata": {
        "id": "M6vOnH3HOpap"
      },
      "source": [
        "**3.3 Le classico classique : polynome 2**\n",
        "\n",
        "Saisir 3 entiers $a, b, c$ et déterminer dans $R$ les racines de l'équation\n",
        "\n",
        "$ax^2 + bx + c = 0$"
      ]
    },
    {
      "cell_type": "code",
      "metadata": {
        "id": "V8dtQHp6O_Ku",
        "outputId": "cb57af0b-241a-49c1-a354-911005145bdf",
        "colab": {
          "base_uri": "https://localhost:8080/",
          "height": 85
        }
      },
      "source": [
        "a = float(input('La valeur de a :'))\n",
        "b = float(input('La valeur de b :'))\n",
        "c = float(input('La valeur de c :'))\n",
        "delta = (b*b)-(4*a*c)\n",
        "if delta > 0:\n",
        "  x1 = (-b+sqrt(delta))/(2*a)\n",
        "  x2 = (-b-sqrt(delta))/(2*a)\n",
        "  print(\"Delta : \" + str(delta) + \" > 0 et donc l'équation ax² + bx + c = 0 a deux solutions\")\n",
        "  print(\"Les solutions sont les suivantes : x1 = \" + str(x1) + \" et x2 = \" + str(x2))\n",
        "elif delta == 0:\n",
        "  x0 = -(b/(2*a))\n",
        "  print(\"Delta : \" + str(delta) + \" = 0 et donc l'équation ax² + bx + c = 0 a une seule solution\")\n",
        "  print(\"La solution est la suivante : x0 = \" + str(x0))\n",
        "else :  # delta < 0\n",
        "  print(\"Delta : \" + str(delta) + \" < 0 et donc l'équation ax² + bx + c = 0 n'a pas de solution\")"
      ],
      "execution_count": null,
      "outputs": [
        {
          "output_type": "stream",
          "text": [
            "La valeur de a :1\n",
            "La valeur de b :3\n",
            "La valeur de c :10\n",
            "Delta : -31.0 < 0 et donc l'équation ax² + bx + c = 0 n'a pas de solution\n"
          ],
          "name": "stdout"
        }
      ]
    },
    {
      "cell_type": "markdown",
      "metadata": {
        "id": "skVq702weN1j"
      },
      "source": [
        "**3.4 Le retour : polynome 2**\n",
        "\n",
        "Faite de même dans $C$ (complexe)"
      ]
    },
    {
      "cell_type": "code",
      "metadata": {
        "id": "84LJRfwXeSZo",
        "outputId": "b8879168-663b-4f6e-c10c-26f9c5cde986",
        "colab": {
          "base_uri": "https://localhost:8080/",
          "height": 119
        }
      },
      "source": [
        "a = float(input('La valeur de a :'))\n",
        "b = float(input('La valeur de b :'))\n",
        "c = float(input('La valeur de c :'))\n",
        "delta = (b*b)-(4*a*c)\n",
        "if delta > 0:\n",
        "  x1 = (-b+sqrt(delta))/(2*a)\n",
        "  x2 = (-b-sqrt(delta))/(2*a)\n",
        "  print(\"Delta : \" + str(delta) + \" > 0 et donc l'équation ax² + bx + c = 0 a deux solutions\")\n",
        "  print(\"Les solutions sont les suivantes : x1 = \" + str(x1) + \" et x2 = \" + str(x2))\n",
        "elif delta == 0:\n",
        "  x0 = -(b/(2*a))\n",
        "  print(\"Delta : \" + str(delta) + \" = 0 et donc l'équation ax² + bx + c = 0 a une seule solution\")\n",
        "  print(\"La solution est la suivante : x0 = \" + str(x0))\n",
        "else : # delta < 0\n",
        "  print(\"Delta : \" + str(delta) + \" < 0 et donc l'équation ax² + bx + c = 0 n'a pas de solution réel\")\n",
        "  z1 = ((-b)+i*sqrt(-delta))/(2*a)\n",
        "  z2 = ((-b)-i*sqrt(-delta))/(2*a)\n",
        "  print(\"Delta : \" + str(delta) + \" < 0 et donc l'équation ax² + bx + c = 0 a deux solutions complexes et conjuguées\")\n",
        "  print(\"Les solutions sont les suivantes : x1 = ((-b)+i*sqrt(-delta))/(2*a) et x2 = ((-b)-i*sqrt(-delta))/(2*a)\")"
      ],
      "execution_count": null,
      "outputs": [
        {
          "output_type": "stream",
          "text": [
            "La valeur de a :3\n",
            "La valeur de b :1\n",
            "La valeur de c :10\n",
            "Delta : -119.0 < 0 et donc l'équation ax² + bx + c = 0 n'a pas de solution réel\n",
            "Delta : -119.0 < 0 et donc l'équation ax² + bx + c = 0 a deux solutions complexes et conjuguées\n",
            "Les solutions sont les suivantes : x1 = ((-b)+i*sqrt(-delta))/(2*a) et x2 = ((-b)-i*sqrt(-delta))/(2*a)\n"
          ],
          "name": "stdout"
        }
      ]
    },
    {
      "cell_type": "markdown",
      "metadata": {
        "id": "zmGDaf_ue94c"
      },
      "source": [
        "**3.5 Factorielle**\n",
        "\n",
        "Ecrire un algorithme qui demande un nombre de départ, et qui calcule sa factorielle.\n",
        "On rappel qu'on calcul factorielle n tel que : $n! = II 1in ,i = 1 * 2 * 3 *... * (n - 1) * n.$"
      ]
    },
    {
      "cell_type": "code",
      "metadata": {
        "id": "TDyvoyf8gU8V",
        "outputId": "a91ee8b6-3b41-4b71-e324-dfeb47b6fd2c",
        "colab": {
          "base_uri": "https://localhost:8080/",
          "height": 51
        }
      },
      "source": [
        "def factorial(n):\n",
        "  if n == 0:\n",
        "      return 1\n",
        "  else:\n",
        "      return n * factorial(n-1) #récursive\n",
        "\n",
        "n=int(input(\"Entrez le votre numéro pour calculer sa factoriel : \"))\n",
        "print(factorial(n))"
      ],
      "execution_count": null,
      "outputs": [
        {
          "output_type": "stream",
          "text": [
            "Entrez le votre numéro pour calculer sa factoriel : 3\n",
            "6\n"
          ],
          "name": "stdout"
        }
      ]
    },
    {
      "cell_type": "markdown",
      "metadata": {
        "id": "GjYtuAoZgb8G"
      },
      "source": [
        "**3.6 Toujours plus de maths**\n",
        "\n",
        "Soit f : [0; 1] ! R une fonction croissante. Pour $n >= 1$ on pose : \n",
        "\n",
        "$Un = \\frac{1}{n} \\sum({k = 0})^{n-1} f(k/n)$ \n",
        "\n",
        "et \n",
        "\n",
        "$Vn = \\frac{1}{n} \\sum({k = 1})^{n} f(k/n)$:\n",
        "\n",
        "1-Démontrer que, pour tout $n >= 1$, on a  \n",
        "$U_n < \\int_0^1 f(x)dx < V_n$\n",
        "\n",
        "On admet que $(Un)$ et $(Vn)$ convergent vers\n",
        "$\\int_0^1 f(x)dx.$\n",
        "\n",
        "2-Ecrire un algorithme donnant une valeur approchée de\n",
        "$\\int_0^1 e^{-x^2} dx$ à la centième près."
      ]
    },
    {
      "cell_type": "code",
      "metadata": {
        "id": "eOxNF2ZShxuA",
        "outputId": "97e6ffee-6864-41b2-993c-55d6b31b4b77",
        "colab": {
          "base_uri": "https://localhost:8080/",
          "height": 34
        }
      },
      "source": [
        "# Toujours plus de maths\n",
        "\n",
        "#Ecrire un algorithme donnant une valeur approchée de exp(-x^2) entre 0 et 1\n",
        "# intégrale de Gauss\n",
        "\n",
        "# la fonction n'a pas de primitive directe, application de la méthode des trapèzes\n",
        "import math\n",
        "\n",
        "def f(x):\n",
        "    return math.exp(-x**2)\n",
        "\n",
        "# bornes\n",
        "a=0\n",
        "b=1\n",
        "\n",
        "# nombres de trapèzes\n",
        "n=1000\n",
        "# pas du découpage\n",
        "p=(b-a)/n\n",
        "\n",
        "Somme=0\n",
        "for i in range(1,n):\n",
        "    Somme=Somme+((f(a)+f(a+p))*p)/2\n",
        "    a = a+p\n",
        "\n",
        "# comme c'est la derniere instruction Jupyter notebook fait un affichage\n",
        "Somme"
      ],
      "execution_count": null,
      "outputs": [
        {
          "output_type": "execute_result",
          "data": {
            "text/plain": [
              "0.7464558239947547"
            ]
          },
          "metadata": {
            "tags": []
          },
          "execution_count": 8
        }
      ]
    },
    {
      "cell_type": "markdown",
      "metadata": {
        "id": "OucaMoD-3x11"
      },
      "source": [
        "**Problème : Coefficients binomiaux**\n",
        "\n",
        "Définir un algorithme qui permet de saisir 2 entiers, et calcule la relation suivante :\n",
        "\n",
        "$(_k^n) = C_k^n = \\frac{n!}{k! (n - k)!}$\n",
        "\n",
        "\n",
        "\n"
      ]
    },
    {
      "cell_type": "code",
      "metadata": {
        "id": "ttT8fMus7CUe",
        "outputId": "778138e9-c6fe-4725-e00e-dca9d769fcc1",
        "colab": {
          "base_uri": "https://localhost:8080/",
          "height": 68
        }
      },
      "source": [
        "import scipy.special\n",
        "\n",
        "n = int(input(\"Entrée la valeur de n : \"))\n",
        "k = int(input(\"Entrée la valeur de k : \"))\n",
        "#Effectue le coefficient binomiaux\n",
        "scipy.special.binom(n,k)"
      ],
      "execution_count": null,
      "outputs": [
        {
          "output_type": "stream",
          "text": [
            "Entrée la valeur de n : 10\n",
            "Entrée la valeur de k : 5\n"
          ],
          "name": "stdout"
        },
        {
          "output_type": "execute_result",
          "data": {
            "text/plain": [
              "252.0"
            ]
          },
          "metadata": {
            "tags": []
          },
          "execution_count": 95
        }
      ]
    },
    {
      "cell_type": "markdown",
      "metadata": {
        "id": "uECK8u1J7DCM"
      },
      "source": [
        "Problème : Saisie de matrice\n",
        "1. Écrire une fonction qui demande à l’utilisateur la taille d’une matrice\n",
        "2. Permettre la saisie des valeurs dans la matrice (ligne par ligne)\n",
        "3. Afficher la matrice saisie"
      ]
    },
    {
      "cell_type": "code",
      "metadata": {
        "id": "sSDDBbCO3xch",
        "outputId": "ddfdbb63-4837-466a-bf5b-68ef551f414d",
        "colab": {
          "base_uri": "https://localhost:8080/",
          "height": 204
        }
      },
      "source": [
        "def createMatrice(L,C):\n",
        "  matrice = []\n",
        "\n",
        "#Insertion des valeurs dans la matrice\n",
        "  print(\"Entrée les valeurs dans chacunes des lignes de la matrice\")\n",
        "  for i in range(L):\n",
        "    a = []\n",
        "    for j in range(C):\n",
        "      a.append(int(input()))\n",
        "    matrice.append(a)\n",
        "    print(\"fin de la ligne : \" + str(i+1))\n",
        "\n",
        "#Affiche la matrice\n",
        "  for i in range(L):\n",
        "    for j in range(C):\n",
        "      print(matrice[i][j], end = \" \")\n",
        "    print()\n",
        "\n",
        "L1=int(input(\"Nombre de ligne : \"))\n",
        "C1=int(input(\"Nombre de colonne : \"))\n",
        "createMatrice(L1,C1)"
      ],
      "execution_count": null,
      "outputs": [
        {
          "output_type": "stream",
          "text": [
            "Nombre de ligne : 2\n",
            "Nombre de colonne : 2\n",
            "Entrée les valeurs dans chacunes des lignes de la matrice\n",
            "1\n",
            "2\n",
            "fin de la ligne : 1\n",
            "2\n",
            "1\n",
            "fin de la ligne : 2\n",
            "1 2 \n",
            "2 1 \n"
          ],
          "name": "stdout"
        }
      ]
    },
    {
      "cell_type": "markdown",
      "metadata": {
        "id": "swpHcd2Q7Hnl"
      },
      "source": [
        "Problème : Multiplication matricielle\n",
        "1. Écrire un algorithme qui demande la saisie de 2 matrices A et B\n",
        "2. Vérifier au préalable que les dimensions sont compatibles\n",
        "3. Faire la multiplication matricielle entre A et B tel que :\n",
        "\n",
        "4. Afficher la matrice de résultat"
      ]
    },
    {
      "cell_type": "code",
      "metadata": {
        "id": "J1YgfpoP7Kqf",
        "outputId": "cb0dc8c3-c482-40f6-ea7c-05f7c5def15c",
        "colab": {
          "base_uri": "https://localhost:8080/",
          "height": 68
        }
      },
      "source": [
        "#multiplication matricielle \n",
        "def produitMatriciel(A, B):\n",
        "    n = len(A)\n",
        "    p = len(A[0])\n",
        "    q = len(B[0])\n",
        "    return list([sum([A[i][k]*B[k][j] for k in range(p)]) for j in range(q)] for i in range(n))\n",
        "\n",
        "\n",
        "A = [[1,2], [3,4]]\n",
        "B = [[1,2], [3,4]]\n",
        "print (produitMatriciel(A,B))\n",
        "\n",
        "#avec numpy\n",
        "import numpy as np \n",
        "\n",
        "np.dot(A,B)"
      ],
      "execution_count": null,
      "outputs": [
        {
          "output_type": "stream",
          "text": [
            "[[7, 10], [15, 22]]\n"
          ],
          "name": "stdout"
        },
        {
          "output_type": "execute_result",
          "data": {
            "text/plain": [
              "array([[ 7, 10],\n",
              "       [15, 22]])"
            ]
          },
          "metadata": {
            "tags": []
          },
          "execution_count": 128
        }
      ]
    }
  ]
}