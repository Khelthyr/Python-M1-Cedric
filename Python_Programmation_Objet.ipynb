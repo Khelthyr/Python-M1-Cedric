{
  "nbformat": 4,
  "nbformat_minor": 0,
  "metadata": {
    "colab": {
      "name": "Python Programmation Objet.ipynb",
      "provenance": []
    },
    "kernelspec": {
      "name": "python3",
      "display_name": "Python 3"
    }
  },
  "cells": [
    {
      "cell_type": "markdown",
      "metadata": {
        "id": "VkUn85UlkT2j"
      },
      "source": [
        "**Exercices**\n",
        "\n",
        "**Le compte bancaire**\n",
        "\n",
        "Écrire un programme python qui permet de définir une classe CompteBancaire(), qui permette d’instancier des objets tels que compte1, compte2, etc. Le constructeur de cette classe initialisera deux attributs d’instance nom et solde, avec les valeurs par défaut ’Dupont’ et 1000.\n",
        "\n",
        "Trois autres méthodes seront définies :\n",
        "\n",
        "- depot(somme) permettra d’ajouter une certaine somme au solde ;\n",
        "\n",
        "- retrait(somme) permettra de retirer une certaine somme du solde ;\n",
        "\n",
        "- affiche() permettra d’afficher le nom du titulaire et le solde de son compte."
      ]
    },
    {
      "cell_type": "code",
      "metadata": {
        "id": "pRQ0VIv3PJIB",
        "outputId": "b98cb355-8802-4539-edaa-fb8d7f8b3c50",
        "colab": {
          "base_uri": "https://localhost:8080/",
          "height": 102
        }
      },
      "source": [
        "class CompteBancaire :\n",
        "\n",
        "  def __init__(self, nom = 'Durant', solde = 0):\n",
        "    self.nom = nom\n",
        "    self.solde = solde\n",
        "\n",
        "  def depot(self,a):\n",
        "    self.solde = self.solde + a\n",
        "\n",
        "  def retrait(self,a):\n",
        "    self.solde = self.solde - a\n",
        "  \n",
        "  def affiche(self):\n",
        "    print(\"Le solde du compte bancaire de \" + str(self.nom) + \" est de \" + str(self.solde) + \" euros.\")\n",
        "\n",
        "compte1 = CompteBancaire('Duchmol', 800)\n",
        "compte2 = CompteBancaire()\n",
        "\n",
        "compte1.depot(350)\n",
        "print(compte1.solde)\n",
        "compte1.retrait(200)\n",
        "print(compte1.solde)\n",
        "compte1.affiche()\n",
        "\n",
        "compte2.depot(25)\n",
        "print(compte2.solde)\n",
        "compte2.affiche()"
      ],
      "execution_count": null,
      "outputs": [
        {
          "output_type": "stream",
          "text": [
            "1150\n",
            "950\n",
            "Le solde du compte bancaire de Duchmol est de 950 euros.\n",
            "25\n",
            "Le solde du compte bancaire de Durant est de 25 euros.\n"
          ],
          "name": "stdout"
        }
      ]
    },
    {
      "cell_type": "markdown",
      "metadata": {
        "id": "e0reM68Dkjwo"
      },
      "source": [
        "**La surcharge d'opérateur**\n",
        "\n",
        "Définir une classe Point avec un constructeur, un point est définit soit par deux coordonnées x et y, s’il s’agit d’une représentation d’un point au plan ou par trois coordonnées x, y et z, s’il s’agit d’une représentation d’un point en espace.\n",
        "\n",
        "La classe Point doit contenir une méthode ToString qui affiche le point.\n",
        "\n",
        "```\n",
        ">>>P1=Point(2,3)\n",
        ">>>P1.ToString()\n",
        "P(2.00 , 3.00)\n",
        ">>>P2=Point(1,-5,6)\n",
        ">>>P2.ToString()\n",
        "P(1.00 , -5.00 , 6.00)\n",
        "```\n",
        "\n"
      ]
    },
    {
      "cell_type": "code",
      "metadata": {
        "id": "oCYRwBhhkoHs",
        "outputId": "5c736d87-ac41-4329-da56-e80418e10824",
        "colab": {
          "base_uri": "https://localhost:8080/",
          "height": 51
        }
      },
      "source": [
        "class Point:\n",
        "\n",
        "  def __init__(self, x = None, y = None, z = None):\n",
        "    self.x = x\n",
        "    self.y = y\n",
        "    self.z = z\n",
        "  \n",
        "  def ToString(self):\n",
        "    if self.z == None :\n",
        "      print(\"P(\" + str(self.x) + \" , \" + str(self.y)+ \")\")\n",
        "    else :\n",
        "      print(\"P(\" + str(self.x) + \" , \" + str(self.y) + \" , \" + str(self.z) + \")\")\n",
        "\n",
        "P1 = Point(2,3)\n",
        "P1.ToString()\n",
        "\n",
        "P2 = Point(1,-5,6)\n",
        "P2.ToString()"
      ],
      "execution_count": null,
      "outputs": [
        {
          "output_type": "stream",
          "text": [
            "P(2 , 3)\n",
            "P(1 , -5 , 6)\n"
          ],
          "name": "stdout"
        }
      ]
    },
    {
      "cell_type": "markdown",
      "metadata": {
        "id": "kxEvqwd5olY5"
      },
      "source": [
        "**L'héritage simple**\n",
        "\n",
        "Définir les classes suivantes:\n",
        "\n",
        "- Une classe DateNaissance avec trois attributs, jour, mois, année et une méthode ToString qui convertit la date de naissance en chaine de caractères\n",
        "- Une classe Personne avec trois attributs, nom, prénom et date de naissance et une méthode polymorphe Afficher pour afficher les données de chaque personne.\n",
        "- Une classe Employé qui dérive de la classe Personne, avec en plus un attribut Salaire et la redéfinition de la méthode Afficher.\n",
        "- Une classe Chef qui dérive de la classe Employé, avec en plus un attribut Service et la redéfinition de la méthode Afficher.\n",
        "\n",
        "Exemple d’exécution:\n",
        "\n",
        "\n",
        "```\n",
        ">>>P=personne(“Ilyass”,”Math”,DateNaissance(1,7,1982))\n",
        ">>>P.afficher()\n",
        "Nom: Ilyass \n",
        "Prénom: Math\n",
        "Date de naissance: 01 / 07 / 1982\n",
        " \n",
        ">>>E=employe(“Ilyass”,”Math”,DateNaissance(1,7,1985),7865.548)\n",
        ">>>E.afficher()\n",
        "Nom: Ilyass \n",
        "Prénom: Math\n",
        "Date de naissance: 01 / 07 / 1985\n",
        "Salaire: 7865.55\n",
        " \n",
        ">>>Ch=chef(“Ilyass”,”Math”,DateNaissance(1,7,1988),7865.548,”Ressource humaine”)\n",
        ">>>Ch.afficher()\n",
        "Nom: Ilyass \n",
        "Prénom: Math\n",
        "Date de naissance: 01 / 07 / 1988\n",
        "Salaire: 7865.55\n",
        "Service: Ressource humaine\n",
        "```\n",
        "\n"
      ]
    },
    {
      "cell_type": "code",
      "metadata": {
        "id": "d2kR37_qowIM",
        "outputId": "baa08c5d-ee56-4a20-d0c5-a24b1c906074",
        "colab": {
          "base_uri": "https://localhost:8080/",
          "height": 255
        }
      },
      "source": [
        "class DateNaissance :\n",
        "  def __init__(self,j,m,a):\n",
        "    self.jour = j\n",
        "    self.mois = m\n",
        "    self.annee = a\n",
        "  \n",
        "  def ToString(self):\n",
        "    print(\"Date de Naissance : \" + str(self.jour) + \" / \" + str(self.mois) + \" / \" + str(self.annee))\n",
        "\n",
        "class Personne :\n",
        "  def __init__(self,nom,prenom,date):\n",
        "    self.nom = nom\n",
        "    self.prenom = prenom\n",
        "    self.date = date\n",
        "  \n",
        "  def affiche(self):\n",
        "    print(\"Nom : \" + str(self.nom))\n",
        "    print(\"Prenom : \" + str(self.prenom))\n",
        "    self.date.ToString()\n",
        "\n",
        "class Employe(Personne) :\n",
        "  def __init__(self,nom,prenom,date,salaire):\n",
        "    self.nom = nom\n",
        "    self.prenom = prenom\n",
        "    self.date = date\n",
        "    self.salaire = salaire\n",
        "  \n",
        "  def affiche(self):\n",
        "    Personne.affiche(self)\n",
        "    print(\"Salaire : \" + str(self.salaire))\n",
        "\n",
        "class Chef(Employe) :\n",
        "  def __init__(self,nom,prenom,date,salaire,service):\n",
        "    self.nom = nom\n",
        "    self.prenom = prenom\n",
        "    self.date = date\n",
        "    self.salaire = salaire\n",
        "    self.service = service\n",
        "  \n",
        "  def affiche(self):\n",
        "    Employe.affiche(self)\n",
        "    print(\"Service : \" + str(self.service))\n",
        "\n",
        "P=Personne(\"Ilyass\",\"Math\",DateNaissance(1,7,1982))\n",
        "P.affiche()\n",
        "print(\" \")\n",
        "E=Employe(\"Thierry\",\"Lodric\",DateNaissance(1,7,1985),7865.548)\n",
        "E.affiche()\n",
        "print(\" \")\n",
        "Ch=Chef(\"Faras\",\"Momo\",DateNaissance(1,7,1988),7865.548,\"Ressource humaine\")\n",
        "Ch.affiche()"
      ],
      "execution_count": null,
      "outputs": [
        {
          "output_type": "stream",
          "text": [
            "Nom : Ilyass\n",
            "Prenom : Math\n",
            "Date de Naissance : 1 / 7 / 1982\n",
            " \n",
            "Nom : Thierry\n",
            "Prenom : Lodric\n",
            "Date de Naissance : 1 / 7 / 1985\n",
            "Salaire : 7865.548\n",
            " \n",
            "Nom : Faras\n",
            "Prenom : Momo\n",
            "Date de Naissance : 1 / 7 / 1988\n",
            "Salaire : 7865.548\n",
            "Service : Ressource humaine\n"
          ],
          "name": "stdout"
        }
      ]
    },
    {
      "cell_type": "markdown",
      "metadata": {
        "id": "ss_0-bIet9Cf"
      },
      "source": [
        "**Exercice sur le polymorphisme**\n",
        "\n",
        "**Consignes**\n",
        "\n",
        "Une boîtes aux lettres recueille des courrier qui peuvent être des lettres ou des colis.\n",
        "\n",
        "1 / Une lettre est caractérisée par :\n",
        "\n",
        "Son poids (en grammes) le mode d’expédition (express ou normal) son adresse de destination son adresse d’expédition son format (“A3” ou “A4”) \n",
        "\n",
        "2 / Un colis est caractérisé par :\n",
        "\n",
        "Son poids (en grammes) le mode d’expédition (express ou normal) son adresse de destination son adresse d’expédition son volume (en litres ) \n",
        "\n",
        "Il faut donc définir aussi les deux méthodes:\n",
        "\n",
        "* CalculTimbre: qui calcule le prix du Timbre \n",
        "* ToString qui affiche un courrier Règles pour calculer le prix du Timbre :\n",
        "\n",
        "En mode ***d’expédition normal*** :\n",
        "\n",
        "Le montant nécessaire pour affranchir une lettre dépend de son format et de son poids : \n",
        "\n",
        "**Formule** : montant = tarif de base + 1.0 * poids (kilos), où le tarif de base pour une lettre “A4” est de 2.50, et 3.50 pour une lettre “A3”\n",
        "\n",
        "Le montant nécessaire pour affranchir un colis dépend de son poids et de son volume :\n",
        "\n",
        "**Formule** : montant = 0.25 volume (litres) * poids (kilos) 1.0\n",
        "\n",
        "En mode ***d’expédition express*** : les montants précédents sont doublés, quelque soit le type de courrier\n",
        "\n",
        "Exemple d’exécution :\n",
        "\n",
        "\n",
        "```\n",
        ">>>L1=Lettre(“Lille”,”Paris”,80,”normal”,”A4″)\n",
        ">>>L1.ToString()\n",
        "Lettre:\n",
        "Adresse destination: Lille \n",
        "Adresse expedition: Paris\n",
        "Poids: 80.00 grammes\n",
        "Mode: normal \n",
        "Format:A4\n",
        "Prix du timbre:0.20\n",
        ">>>C1=Colis(“Marrakeche”,”Barcelone “,3500,”expresse”,2.25)\n",
        ">>>C1.ToString()\n",
        "Colis:\n",
        "Adresse destination: Marrakeche \n",
        "Adresse expedition: Barcelone \n",
        "Poids: 3500.00 grammes\n",
        "Mode: expresse \n",
        "Volume: 2.25 litres\n",
        "Prix du timbre:3.93750\n",
        "```\n",
        "\n"
      ]
    },
    {
      "cell_type": "code",
      "metadata": {
        "id": "f22y_CRiuJgn",
        "outputId": "59066d60-493c-4085-b08d-b16059c3badf",
        "colab": {
          "base_uri": "https://localhost:8080/",
          "height": 272
        }
      },
      "source": [
        "class Courrier :\n",
        "  def __init__(self,adrDest,adrExpe,poids,typeExpe):\n",
        "    self.adrDest = adrDest\n",
        "    self.adrExpe = adrExpe\n",
        "    self.poids = poids\n",
        "    self.typeExpe = typeExpe\n",
        "\n",
        "  def ToString(self):\n",
        "    print('Lettre : ')\n",
        "    print('Adresse destination : ' + self.adrDest)\n",
        "    print('Adresse expedition : ' + self.adrExpe)\n",
        "    print('Poids : ' + str(self.poids))\n",
        "    print('Mode : ' + self.typeExpe)\n",
        "\n",
        "class Lettre(Courrier) :\n",
        "  def __init__(self,adrDest,adrExpe,poids,typeExpe,format):\n",
        "    Courrier.__init__(self,adrDest,adrExpe,poids,typeExpe)\n",
        "    self.format = format\n",
        "\n",
        "  def CalculTimbre(self):\n",
        "    montant = 0\n",
        "    tarifBase = 0\n",
        "    if self.typeExpe == \"normal\":\n",
        "      if self.format == \"A4\":\n",
        "        tarifBase = 2.50\n",
        "      else :\n",
        "        tarifBase = 3.50\n",
        "      montant = (tarifBase + 1.0) * (self.poids/1000)\n",
        "    else :\n",
        "      if self.format == \"A3\":\n",
        "        tarifBase = 2.50\n",
        "      else :\n",
        "        tarifBase = 3.50\n",
        "      montant = ((tarifBase + 1.0) * self.poids)*2\n",
        "    print(\"Prix du timbre : \" + str(montant))\n",
        "      \n",
        "  def ToString(self):\n",
        "    Courrier.ToString(self)\n",
        "    print('Format : ' + self.format)\n",
        "    Lettre.CalculTimbre(self)\n",
        "\n",
        "class Colis(Courrier) :\n",
        "  def __init__(self,adrDest,adrExpe,poids,typeExpe,volume):\n",
        "    Courrier.__init__(self,adrDest,adrExpe,poids,typeExpe)\n",
        "    self.volume = volume\n",
        "\n",
        "  def CalculTimbre(self):\n",
        "    montant = 0\n",
        "    montant = (0.25*self.volume)*(self.poids/1000)\n",
        "    print(\"Prix du timbre : \" + str(montant))\n",
        "  \n",
        "  def ToString(self):\n",
        "    Courrier.ToString(self)\n",
        "    print('Volume (en Littre) : ' + str(self.volume))\n",
        "    Colis.CalculTimbre(self)\n",
        "\n",
        "L1=Lettre(\"Lille\",\"Paris\",80,\"normal\",\"A4\")\n",
        "L1.ToString()\n",
        "print(\"\")\n",
        "C1=Colis(\"Marrakeche\",\"Barcelone\",3500,\"expresse\",2.25)\n",
        "C1.ToString()"
      ],
      "execution_count": null,
      "outputs": [
        {
          "output_type": "stream",
          "text": [
            "Lettre : \n",
            "Adresse destination : Lille\n",
            "Adresse expedition : Paris\n",
            "Poids : 80\n",
            "Mode : normal\n",
            "Format : A4\n",
            "Prix du timbre : 0.28\n",
            "\n",
            "Lettre : \n",
            "Adresse destination : Marrakeche\n",
            "Adresse expedition : Barcelone\n",
            "Poids : 3500\n",
            "Mode : expresse\n",
            "Volume (en Littre) : 2.25\n",
            "Prix du timbre : 1.96875\n"
          ],
          "name": "stdout"
        }
      ]
    }
  ]
}