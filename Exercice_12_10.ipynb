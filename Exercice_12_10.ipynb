{
  "nbformat": 4,
  "nbformat_minor": 0,
  "metadata": {
    "colab": {
      "name": "Exercice-12/10.ipynb",
      "provenance": []
    },
    "kernelspec": {
      "name": "python3",
      "display_name": "Python 3"
    }
  },
  "cells": [
    {
      "cell_type": "markdown",
      "metadata": {
        "id": "iPsXRhJTm8hU"
      },
      "source": [
        "2 Les tableaux\n",
        "\n",
        "2.1 La somme\n",
        "\n",
        "Ecrire un algorithme calculant la somme des valeurs d'un tableau (on suppose\n",
        "bien sur que le tableau a \u0013et\u0013e pr\u0013ealablement saisi).\n",
        "\n"
      ]
    },
    {
      "cell_type": "code",
      "metadata": {
        "id": "tdqzTr0Jmj8c",
        "outputId": "17ae2ee5-d7e2-463b-965f-165272e32845",
        "colab": {
          "base_uri": "https://localhost:8080/",
          "height": 35
        }
      },
      "source": [
        "table = [1,2,3,4]\n",
        "def functionSumTable(v):\n",
        "  somme = 0\n",
        "  for i in range(len(v)+1):\n",
        "    somme = somme + i\n",
        "  print(somme)\n",
        "\n",
        "functionSumTable(table)"
      ],
      "execution_count": 9,
      "outputs": [
        {
          "output_type": "stream",
          "text": [
            "10\n"
          ],
          "name": "stdout"
        }
      ]
    },
    {
      "cell_type": "markdown",
      "metadata": {
        "id": "3xMt6CO6ptuP"
      },
      "source": [
        "2.2 La somme : retour\n",
        "\n",
        "Ecrire un algorithme constituant un tableau, \u0012à partir de deux tableaux de même\n",
        "longueur pr\u0013ealablement saisis. \n",
        "\n",
        "Le nouveau tableau sera la somme des \u0013el\u0013ements\n",
        "des deux tableaux de d\u0013epart."
      ]
    },
    {
      "cell_type": "code",
      "metadata": {
        "id": "fSP7UXyhp6L1",
        "outputId": "2273c0f7-9889-4f9b-ce84-71a884bfd524",
        "colab": {
          "base_uri": "https://localhost:8080/",
          "height": 35
        }
      },
      "source": [
        "table1 = [1,2,3]\n",
        "table2 = [1,2,3]\n",
        "\n",
        "def functionCreateTableSum(v1,v2):\n",
        "  if len(v1)==len(v2):  \n",
        "    tableSum = []\n",
        "    for i in range(len(v1)):\n",
        "      x = v1[i] + v2[i]\n",
        "      tableSum.append(x)\n",
        "    print(tableSum)\n",
        "  else :\n",
        "    print('Les tables ne sont pas de même tailles')\n",
        "\n",
        "functionCreateTableSum(table1,table2)"
      ],
      "execution_count": 14,
      "outputs": [
        {
          "output_type": "stream",
          "text": [
            "[2, 4, 6]\n"
          ],
          "name": "stdout"
        }
      ]
    },
    {
      "cell_type": "markdown",
      "metadata": {
        "id": "tsb03XtcubXQ"
      },
      "source": [
        "2.3 FacProduct\n",
        "\n",
        "Toujours \u0012a partir de deux tableaux pr\u0013ec\u0013edemment saisis, \u0013ecrire un algorithme\n",
        "qui calcule le 'FacProduct' des deux tableaux.\n",
        "\n",
        "Pour calculer le 'FacProduct', il faut multiplier chaque \u0013el\u0013ement du tableau1 par chaque \u0013el\u0013ement du tableau2, et additionner le tout."
      ]
    },
    {
      "cell_type": "code",
      "metadata": {
        "id": "xpSFpPkuu7m9",
        "outputId": "6f3fde3e-41d2-43c0-d43c-d9ac8f8e9b71",
        "colab": {
          "base_uri": "https://localhost:8080/",
          "height": 35
        }
      },
      "source": [
        "table1 = [2,2,2]\n",
        "table2 = [2,2,2]\n",
        "\n",
        "def functionFacProduct(v1,v2):\n",
        "  sommeTotal = 0\n",
        "  for i in v1:\n",
        "    for j in v2:\n",
        "      sommeTotal = sommeTotal + (i + j)\n",
        "  print(sommeTotal)\n",
        "\n",
        "functionFacProduct(table1,table2)"
      ],
      "execution_count": 28,
      "outputs": [
        {
          "output_type": "stream",
          "text": [
            "36\n"
          ],
          "name": "stdout"
        }
      ]
    },
    {
      "cell_type": "markdown",
      "metadata": {
        "id": "Ow0_f1Fmxy2e"
      },
      "source": [
        "2.4 Le plus grand\n",
        "\n",
        "Ecrire un algorithme permettant \u0012a l'utilisateur de saisir un nombre d\u0013etermin\u0013e\n",
        "de valeurs. \n",
        "\n",
        "Le programme, une fois la saisie termin\u0013ee, renvoie la plus grande\n",
        "valeur en pr\u0013ecisant quelle position elle occupe dans le tableau."
      ]
    },
    {
      "cell_type": "code",
      "metadata": {
        "id": "w7sTLReNx8JX",
        "outputId": "80a6c3a8-6800-46b7-fa5f-1813be2ccdd0",
        "colab": {
          "base_uri": "https://localhost:8080/",
          "height": 162
        }
      },
      "source": [
        "def functionHighestValue():\n",
        "  print('Quelle est la taille de votre tableau ? :')\n",
        "  x = int(input())\n",
        "  tableau = []\n",
        "  print('Ajouté vos chiffres dans le tableau (de taille x)')\n",
        "  for i in range(0,x):\n",
        "    ajout = int(input())\n",
        "    tableau.append(ajout)\n",
        "  print(tableau)\n",
        "  highestValue = 0\n",
        "  indexHighestValue = 0\n",
        "  for z in tableau:\n",
        "    if z > highestValue:\n",
        "      highestValue = z\n",
        "      indexHighestValue = tableau.index(z)\n",
        "  print('La plus grande valeur est : ' + str(highestValue) + ' en index : ' + str(indexHighestValue+1)) # J'ai ajouté un 1 car l'index comptais le 0 \n",
        "\n",
        "functionHighestValue()"
      ],
      "execution_count": 49,
      "outputs": [
        {
          "output_type": "stream",
          "text": [
            "Quelle est la taille de votre tableau ? :\n",
            "3\n",
            "Ajouté vos chiffres dans le tableau (de taille x)\n",
            "4\n",
            "6\n",
            "3\n",
            "[4, 6, 3]\n",
            "La plus grande valeur est : 6 en index : 2\n"
          ],
          "name": "stdout"
        }
      ]
    }
  ]
}