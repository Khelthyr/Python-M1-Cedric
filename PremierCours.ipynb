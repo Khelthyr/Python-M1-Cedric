{
  "nbformat": 4,
  "nbformat_minor": 0,
  "metadata": {
    "colab": {
      "name": "PremierCours.ipynb",
      "provenance": [],
      "collapsed_sections": []
    },
    "kernelspec": {
      "name": "python3",
      "display_name": "Python 3"
    }
  },
  "cells": [
    {
      "cell_type": "code",
      "metadata": {
        "id": "Ux41QQqtHemw",
        "outputId": "449f1594-0940-4343-fe1a-61adad7a7af3",
        "colab": {
          "base_uri": "https://localhost:8080/",
          "height": 199
        }
      },
      "source": [
        "#Génére une liste aléatoire\n",
        "l = [randint(0,10) for _ in range(10)]\n",
        "# for element in liste:\n",
        "# print(e)\n",
        "for i, elem in enumerate(l):\n",
        "  print(i,elem)"
      ],
      "execution_count": null,
      "outputs": [
        {
          "output_type": "stream",
          "text": [
            "0 1\n",
            "1 2\n",
            "2 5\n",
            "3 5\n",
            "4 6\n",
            "5 4\n",
            "6 5\n",
            "7 4\n",
            "8 9\n",
            "9 3\n"
          ],
          "name": "stdout"
        }
      ]
    },
    {
      "cell_type": "code",
      "metadata": {
        "id": "9gvAFHBXLg_b",
        "outputId": "b75537b9-a639-4cf5-f3dc-e06f7ab2b342",
        "colab": {
          "base_uri": "https://localhost:8080/",
          "height": 35
        }
      },
      "source": [
        "#Trouver le minimum dans une liste\n",
        "from random import randint\n",
        "n = [3,2,1]\n",
        "min = n[0]\n",
        "for i in n:\n",
        "  if i < min:\n",
        "    min = i\n",
        "print(min)\n"
      ],
      "execution_count": null,
      "outputs": [
        {
          "output_type": "stream",
          "text": [
            "1\n"
          ],
          "name": "stdout"
        }
      ]
    },
    {
      "cell_type": "code",
      "metadata": {
        "id": "-ieG8JLmOssU",
        "outputId": "0ce20976-e5be-48cf-8290-fffb5ddbf3f6",
        "colab": {
          "base_uri": "https://localhost:8080/",
          "height": 90
        }
      },
      "source": [
        "#Générer une liste Aléatoire\n",
        "Liste = []\n",
        "for i in range(5):\n",
        "  Liste.append(randint(0,10))\n",
        "print(\"Liste non triée : \")\n",
        "print(Liste)\n",
        "#----------------------------\n",
        "\n",
        "\n",
        "#Trier une liste de int ---------------------------\n",
        "for i in range(len(Liste)):\n",
        "    for j in range(i + 1, len(Liste)):\n",
        "        if Liste[i] > Liste[j]:\n",
        "           Liste[i], Liste[j] = Liste[j], Liste[i]\n",
        "\n",
        "print(\"Liste triée : \")\n",
        "print(Liste)\n",
        "#--------------------------------------------------\n"
      ],
      "execution_count": null,
      "outputs": [
        {
          "output_type": "stream",
          "text": [
            "Liste non triée : \n",
            "[1, 6, 9, 10, 5]\n",
            "Liste triée : \n",
            "[1, 5, 6, 9, 10]\n"
          ],
          "name": "stdout"
        }
      ]
    },
    {
      "cell_type": "code",
      "metadata": {
        "id": "azFL-9A-vqiy",
        "outputId": "2a1747bd-fac7-4644-d61f-ab7f6964c2f4",
        "colab": {
          "base_uri": "https://localhost:8080/",
          "height": 108
        }
      },
      "source": [
        "#Trier par insertion\n",
        "lrand = [4,1,2,10,2]\n",
        "# lrand = [randint(0,10) for _ in range(10)]\n",
        "# print(\"Liste non triée : \")\n",
        "# print(lrand)\n",
        "\n",
        "for i in range(len(lrand)):\n",
        "  x = lrand[i]\n",
        "  j = i\n",
        "  while j > 0 and lrand[j - 1] > x:\n",
        "    lrand[j] = lrand[j - 1]\n",
        "    j = j - 1\n",
        "  lrand[j] = x\n",
        "  print(lrand)\n",
        "# print(\"Liste triée : \")\n",
        "# print(lrand)"
      ],
      "execution_count": null,
      "outputs": [
        {
          "output_type": "stream",
          "text": [
            "[4, 1, 2, 10, 2]\n",
            "[1, 4, 2, 10, 2]\n",
            "[1, 2, 4, 10, 2]\n",
            "[1, 2, 4, 10, 2]\n",
            "[1, 2, 2, 4, 10]\n"
          ],
          "name": "stdout"
        }
      ]
    },
    {
      "cell_type": "code",
      "metadata": {
        "id": "TKXbiEJLklAR"
      },
      "source": [
        "#Triage par fusion (Merge sort)\n",
        "\n",
        "listeRand = [4,1,2,10,2]\n",
        "listeRand1 = [4,1]\n",
        "listeRand2 = [2,10,2]\n",
        "listeRandTri = []\n",
        "while listeRand1 = [] and listeRand2 = []:\n",
        "  if listeRand1[0] > listeRand2[0]:\n",
        "    listeRandTri.append(listeRand1[0])\n",
        "  elif listeRand1[0] < listeRand2[0]:\n",
        "    listeRandTri.append(listeRand2[0])"
      ],
      "execution_count": null,
      "outputs": []
    },
    {
      "cell_type": "code",
      "metadata": {
        "id": "VXpBrlsf3KJ4",
        "outputId": "760e17b2-bf27-4edd-8df1-d33066cfd657",
        "colab": {
          "base_uri": "https://localhost:8080/"
        }
      },
      "source": [
        ""
      ],
      "execution_count": null,
      "outputs": [
        {
          "output_type": "stream",
          "text": [
            "/bin/bash: pdwp: command not found\n"
          ],
          "name": "stdout"
        }
      ]
    }
  ]
}