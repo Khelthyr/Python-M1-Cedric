{
  "nbformat": 4,
  "nbformat_minor": 0,
  "metadata": {
    "colab": {
      "name": "Evaluation.ipynb",
      "provenance": []
    },
    "kernelspec": {
      "name": "python3",
      "display_name": "Python 3"
    }
  },
  "cells": [
    {
      "cell_type": "markdown",
      "metadata": {
        "id": "bYLoyID-ob_h"
      },
      "source": [
        "Problème 1 : Carré\n",
        "\n",
        "Ecrire une fonction en python qui demande un nombre à l'utilisateur et qui affiche le carré de\n",
        "ce nombre."
      ]
    },
    {
      "cell_type": "code",
      "metadata": {
        "id": "67x5C1zNoIou",
        "outputId": "dd6cfff7-cf4e-45b1-abfe-19b2ec25b81a",
        "colab": {
          "base_uri": "https://localhost:8080/"
        }
      },
      "source": [
        "def carre():\n",
        "  x = int(input())\n",
        "  a = x*x\n",
        "  print(a)\n",
        "\n",
        "carre()"
      ],
      "execution_count": 2,
      "outputs": [
        {
          "output_type": "stream",
          "text": [
            "6\n",
            "36\n"
          ],
          "name": "stdout"
        }
      ]
    },
    {
      "cell_type": "markdown",
      "metadata": {
        "id": "7gUE5GuWoppX"
      },
      "source": [
        "Problème 2 : Produit\n",
        "\n",
        "Ecrire une fonction en python qui prend deux nombres et informe en suite si leur produit est\n",
        "négatif ou positif ou nul. Attention : il n'est pas nécessaire de renvoyer le produit des deux\n",
        "nombres."
      ]
    },
    {
      "cell_type": "code",
      "metadata": {
        "id": "daOe_-Yxou0O",
        "outputId": "e6053742-dd97-451c-8774-eadbd43b8321",
        "colab": {
          "base_uri": "https://localhost:8080/"
        }
      },
      "source": [
        "def produit(a,b):\n",
        "  if a < 0 or b < 0:\n",
        "    print(\"négatif\")\n",
        "  else:\n",
        "    print(\"positif\")\n",
        "\n",
        "produit(1,-2)"
      ],
      "execution_count": 4,
      "outputs": [
        {
          "output_type": "stream",
          "text": [
            "négatif\n"
          ],
          "name": "stdout"
        }
      ]
    },
    {
      "cell_type": "markdown",
      "metadata": {
        "id": "sdu0Xys1owXv"
      },
      "source": [
        "Problème 3 : Somme\n",
        "\n",
        "Ecrire une fonction en python qui prend un nombre de départ disons k, et qui calcule la\n",
        "somme des entiers jusqu’à ce nombre, noté Σ􀯞􀬾􀬵􀬴 𝑖\n",
        "􀯜􀭀􀯞 . Par exemple, si k = 5, la fonction doit\n",
        "renvoyer : 15."
      ]
    },
    {
      "cell_type": "code",
      "metadata": {
        "id": "1hCsMWj9ozHi",
        "outputId": "8692d462-4da9-4cab-effa-ba06337be6c2",
        "colab": {
          "base_uri": "https://localhost:8080/"
        }
      },
      "source": [
        "def somme(k):\n",
        "  s = k + 10\n",
        "  print(s)\n",
        "\n",
        "somme(5)"
      ],
      "execution_count": 5,
      "outputs": [
        {
          "output_type": "stream",
          "text": [
            "15\n"
          ],
          "name": "stdout"
        }
      ]
    },
    {
      "cell_type": "markdown",
      "metadata": {
        "id": "j8kik26qp7IA"
      },
      "source": [
        "Problème 4 : FacProduct\n",
        "\n",
        "Ecrire un algorithme qui, à partir de deux tableaux précédemment saisis calcule le\n",
        "'FacProduct' des deux tableaux. Pour calculer le 'FacProduct', il faut multiplier chaque\n",
        "élément du tableau1 par chaque élément du tableau2, et additionner le tout.\n",
        "Par exemple, soient deux tableaux l1; l2, où l1 = [1; 2; 3] et l2 = [1; 2] l'algorithme doit\n",
        "renvoyer 18."
      ]
    },
    {
      "cell_type": "code",
      "metadata": {
        "id": "xgJpOP50p955",
        "outputId": "4c4c1f4a-24d2-4419-ef51-4f90a3fb4f86",
        "colab": {
          "base_uri": "https://localhost:8080/"
        }
      },
      "source": [
        "l1 = [1,2,3]\n",
        "l2 = [1,2]\n",
        "\n",
        "def FacProduct(v1,v2):\n",
        "  sommeTotal = 0\n",
        "  for i in range(len(v1)):\n",
        "    for j in range(len(v2)):\n",
        "      sommeTotal = sommeTotal + (l1[i] * l2[j])\n",
        "  print(sommeTotal)\n",
        "FacProduct(l1,l2)"
      ],
      "execution_count": 19,
      "outputs": [
        {
          "output_type": "stream",
          "text": [
            "18\n"
          ],
          "name": "stdout"
        }
      ]
    },
    {
      "cell_type": "markdown",
      "metadata": {
        "id": "zgt5NYejqqGZ"
      },
      "source": [
        "Problème 5 : Minimum\n",
        "\n",
        "Ecrire un algorithme retournant le minimum d'un tableau donné."
      ]
    },
    {
      "cell_type": "code",
      "metadata": {
        "id": "_ke2tC3TqsfZ",
        "outputId": "510915e9-4f84-4768-8f7b-e33323721390",
        "colab": {
          "base_uri": "https://localhost:8080/"
        }
      },
      "source": [
        "def LowestValue():\n",
        "  print('Quelle est la taille de votre tableau ? :')\n",
        "  x = int(input())\n",
        "  tableau = []\n",
        "  print('Ajouté vos chiffres dans le tableau (de taille x)')\n",
        "  for i in range(0,x):\n",
        "    ajout = int(input())\n",
        "    tableau.append(ajout)\n",
        "  print(tableau)\n",
        "  LowValue = tableau[1]\n",
        "  indexLowValue = 0\n",
        "  for z in tableau:\n",
        "    if z < LowValue:\n",
        "      LowValue = z\n",
        "      indexLowValue = tableau.index(z)\n",
        "  print('La plus petite valeur est : ' + str(LowValue) + ' en index : ' + str(indexLowValue+1)) # J'ai ajouté un 1 car l'index comptais le 0 \n",
        "\n",
        "LowestValue()"
      ],
      "execution_count": 13,
      "outputs": [
        {
          "output_type": "stream",
          "text": [
            "Quelle est la taille de votre tableau ? :\n",
            "3\n",
            "Ajouté vos chiffres dans le tableau (de taille x)\n",
            "4\n",
            "6\n",
            "2\n",
            "[4, 6, 2]\n",
            "La plus petite valeur est : 2 en index : 3\n"
          ],
          "name": "stdout"
        }
      ]
    },
    {
      "cell_type": "markdown",
      "metadata": {
        "id": "97fhdwd4rr5j"
      },
      "source": [
        "Problème 6 : Tri\n",
        "\n",
        "Ecrire un algorithme triant un tableau donné par sélection. L'algorithme va commencer par chercher l'élément de plus petite valeur dans le tableau, on le place en tête du tableau et on recommence avec le tableau moins la première case. Vous pouvez notamment utiliser la fonction minimum dans l'exercice précédent.\n"
      ]
    },
    {
      "cell_type": "code",
      "metadata": {
        "id": "3G_OyaferyQN",
        "outputId": "50977c8a-046a-4ace-af9e-75fd3d04deb4",
        "colab": {
          "base_uri": "https://localhost:8080/"
        }
      },
      "source": [
        "lrand = [4,1,2,10,2]\n",
        "\n",
        "for i in range(len(lrand)):\n",
        "  x = lrand[i]\n",
        "  j = i\n",
        "  while j > 0 and lrand[j - 1] > x:\n",
        "    lrand[j] = lrand[j - 1]\n",
        "    j = j - 1\n",
        "  lrand[j] = x\n",
        "  print(lrand)"
      ],
      "execution_count": 20,
      "outputs": [
        {
          "output_type": "stream",
          "text": [
            "[4, 1, 2, 10, 2]\n",
            "[1, 4, 2, 10, 2]\n",
            "[1, 2, 4, 10, 2]\n",
            "[1, 2, 4, 10, 2]\n",
            "[1, 2, 2, 4, 10]\n"
          ],
          "name": "stdout"
        }
      ]
    },
    {
      "cell_type": "markdown",
      "metadata": {
        "id": "g62n6JkztfZj"
      },
      "source": [
        "Problème 7 : Carré & listes\n",
        "\n",
        "Ecrire un algorithme qui prend une liste en entré et qui renvoie une liste contenant le carré de\n",
        "chaque élément de la liste passée en entré. Veuillez utiliser la fonction définie dans le\n",
        "problème 1."
      ]
    },
    {
      "cell_type": "code",
      "metadata": {
        "id": "eOQVZWUktjKz",
        "outputId": "3c446fed-016d-4a2f-c8c0-c10bf5b41950",
        "colab": {
          "base_uri": "https://localhost:8080/",
          "height": 334
        }
      },
      "source": [
        "listeTest = [2,3,4]\n",
        "\n",
        "def carreliste(listeATest):\n",
        "  for i in range(len(listeATest)):\n",
        "    i = carre(listeATest(i))\n",
        "  print(listeATest)\n",
        "\n",
        "carreliste(listeTest)"
      ],
      "execution_count": 25,
      "outputs": [
        {
          "output_type": "error",
          "ename": "TypeError",
          "evalue": "ignored",
          "traceback": [
            "\u001b[0;31m---------------------------------------------------------------------------\u001b[0m",
            "\u001b[0;31mTypeError\u001b[0m                                 Traceback (most recent call last)",
            "\u001b[0;32m<ipython-input-25-96f2a21f6795>\u001b[0m in \u001b[0;36m<module>\u001b[0;34m()\u001b[0m\n\u001b[1;32m      6\u001b[0m   \u001b[0mprint\u001b[0m\u001b[0;34m(\u001b[0m\u001b[0mlisteATest\u001b[0m\u001b[0;34m)\u001b[0m\u001b[0;34m\u001b[0m\u001b[0;34m\u001b[0m\u001b[0m\n\u001b[1;32m      7\u001b[0m \u001b[0;34m\u001b[0m\u001b[0m\n\u001b[0;32m----> 8\u001b[0;31m \u001b[0mcarreliste\u001b[0m\u001b[0;34m(\u001b[0m\u001b[0mlisteTest\u001b[0m\u001b[0;34m)\u001b[0m\u001b[0;34m\u001b[0m\u001b[0;34m\u001b[0m\u001b[0m\n\u001b[0m",
            "\u001b[0;32m<ipython-input-25-96f2a21f6795>\u001b[0m in \u001b[0;36mcarreliste\u001b[0;34m(listeATest)\u001b[0m\n\u001b[1;32m      3\u001b[0m \u001b[0;32mdef\u001b[0m \u001b[0mcarreliste\u001b[0m\u001b[0;34m(\u001b[0m\u001b[0mlisteATest\u001b[0m\u001b[0;34m)\u001b[0m\u001b[0;34m:\u001b[0m\u001b[0;34m\u001b[0m\u001b[0;34m\u001b[0m\u001b[0m\n\u001b[1;32m      4\u001b[0m   \u001b[0;32mfor\u001b[0m \u001b[0mi\u001b[0m \u001b[0;32min\u001b[0m \u001b[0mrange\u001b[0m\u001b[0;34m(\u001b[0m\u001b[0mlen\u001b[0m\u001b[0;34m(\u001b[0m\u001b[0mlisteATest\u001b[0m\u001b[0;34m)\u001b[0m\u001b[0;34m)\u001b[0m\u001b[0;34m:\u001b[0m\u001b[0;34m\u001b[0m\u001b[0;34m\u001b[0m\u001b[0m\n\u001b[0;32m----> 5\u001b[0;31m     \u001b[0mi\u001b[0m \u001b[0;34m=\u001b[0m \u001b[0mcarre\u001b[0m\u001b[0;34m(\u001b[0m\u001b[0mlisteATest\u001b[0m\u001b[0;34m(\u001b[0m\u001b[0mi\u001b[0m\u001b[0;34m)\u001b[0m\u001b[0;34m)\u001b[0m\u001b[0;34m\u001b[0m\u001b[0;34m\u001b[0m\u001b[0m\n\u001b[0m\u001b[1;32m      6\u001b[0m   \u001b[0mprint\u001b[0m\u001b[0;34m(\u001b[0m\u001b[0mlisteATest\u001b[0m\u001b[0;34m)\u001b[0m\u001b[0;34m\u001b[0m\u001b[0;34m\u001b[0m\u001b[0m\n\u001b[1;32m      7\u001b[0m \u001b[0;34m\u001b[0m\u001b[0m\n",
            "\u001b[0;31mTypeError\u001b[0m: 'list' object is not callable"
          ]
        }
      ]
    },
    {
      "cell_type": "markdown",
      "metadata": {
        "id": "S-r6k_26ugZm"
      },
      "source": [
        "Problème 8 : Valeur du plus petit doublon\n",
        "\n",
        "Ecrire un algorithme qui donne la valeur du premier doublon dans une liste.\n",
        "Par exemple pour la liste l = [1; 2; 3; 6; 5; 3; 7; 2] l'algorithme sortira 3."
      ]
    },
    {
      "cell_type": "code",
      "metadata": {
        "id": "7r3_FcrKujOG",
        "outputId": "aba7f3e1-4917-4aae-a583-b1bdcf3381cc",
        "colab": {
          "base_uri": "https://localhost:8080/"
        }
      },
      "source": [
        "def dup(seq):\n",
        "  seen = set()\n",
        "  seen_add = seen.add\n",
        "  seen_twice = set( x for x in seq if x in seen or seen_add(x) )\n",
        "  return list( seen_twice )\n",
        "\n",
        "a = [1, 2, 3, 6, 5, 3, 7, 2]\n",
        "dup(a)"
      ],
      "execution_count": 29,
      "outputs": [
        {
          "output_type": "execute_result",
          "data": {
            "text/plain": [
              "[2, 3]"
            ]
          },
          "metadata": {
            "tags": []
          },
          "execution_count": 29
        }
      ]
    },
    {
      "cell_type": "markdown",
      "metadata": {
        "id": "GgDnZHFIu0HM"
      },
      "source": [
        "Problème 9 : Multiplication matricielle\n",
        "\n",
        "En cours, nous avons vu les matrices, nous avons vu aussi les opérations mathématiques que\n",
        "nous pouvons effectuer sur ces objets.\n",
        "Ecrire un algorithme qui fait la multiplication entre deux matrice carré A et B. Le produit de\n",
        "deux matrices,\n",
        "𝐴 = 􁉀\n",
        "1 2\n",
        "3 4\n",
        "􁉁 et une matrice 𝐵 = 􁉀\n",
        "1 3\n",
        "2 4\n",
        "􁉁 est tel que (𝐴. 𝐵) = 􁉀\n",
        "5 11\n",
        "11 5\n",
        "􁉁"
      ]
    },
    {
      "cell_type": "code",
      "metadata": {
        "id": "rBopxBr8uzrK",
        "outputId": "fe5f47bb-b7b5-4985-dcd8-58814c028a27",
        "colab": {
          "base_uri": "https://localhost:8080/"
        }
      },
      "source": [
        "#multiplication matricielle \n",
        "def produitMatriciel(A, B):\n",
        "    n = len(A)\n",
        "    p = len(A[0])\n",
        "    q = len(B[0])\n",
        "    return list([sum([A[i][k]*B[k][j] for k in range(p)]) for j in range(q)] for i in range(n))\n",
        "\n",
        "\n",
        "A = [[1,2], [3,4]]\n",
        "B = [[1,3], [2,4]]\n",
        "print (produitMatriciel(A,B))\n",
        "\n",
        "#avec numpy\n",
        "import numpy as np \n",
        "\n",
        "np.dot(A,B)"
      ],
      "execution_count": 27,
      "outputs": [
        {
          "output_type": "stream",
          "text": [
            "[[5, 11], [11, 25]]\n"
          ],
          "name": "stdout"
        },
        {
          "output_type": "execute_result",
          "data": {
            "text/plain": [
              "array([[ 5, 11],\n",
              "       [11, 25]])"
            ]
          },
          "metadata": {
            "tags": []
          },
          "execution_count": 27
        }
      ]
    },
    {
      "cell_type": "markdown",
      "metadata": {
        "id": "hw2-F97gu4I-"
      },
      "source": [
        "Problème 10 : POO\n",
        "\n",
        "Expliquer ce qu'est la programmation orientée objet, le concept d'héritage, de\n",
        "polymorphisme ainsi que la différence avec la programmation dite plus \"classique\" et donner\n",
        "des exemples."
      ]
    },
    {
      "cell_type": "markdown",
      "metadata": {
        "id": "4Tt8lmiIwCuC"
      },
      "source": [
        "La programmation orientée objet, est une méthode de programmation. Il consiste en la définition de briques de code appelées objets. Un objet correspond à une entité, comme une table, une personne. Ces objets possèdent une structure avec des attributs, et des méthodes, et il peut intérargir avec d'autre objets. Il s'agit donc de représenter ces objets et leurs relations.\n",
        "\n",
        "L'héritage permet a un objet de donner des attributs qu'il possède à des objets \"filles\" qui reprendront les attributs de leur mère, exemple une \"Volvo\" reprend des attribut d'une voiture. Cela est très utile pour la construction de ces objets."
      ]
    }
  ]
}